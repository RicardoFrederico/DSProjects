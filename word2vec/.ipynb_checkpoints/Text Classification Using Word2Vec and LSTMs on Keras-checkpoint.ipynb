{
 "cells": [
  {
   "cell_type": "markdown",
   "metadata": {},
   "source": [
    "## Intro\n",
    "\n",
    "Guided project on how to train a text classifier using Word2Vec and LSTM on Keras. In this project, you will learn how to do text classification use pre-trained Word Embeddings and Long Short Term Memory (LSTM) Neural Network using the Deep Learning Framework of Keras and Tensorflow in Python. We will be using Google Colab for writing our code and training the model using the GPU runtime provided by Google on the Notebook. We will first train a Word2Vec model and use its output in the embedding layer of our Deep Learning model LSTM which will then be evaluated for its accuracy and loss on unknown data and tested on few samples."
   ]
  },
  {
   "cell_type": "markdown",
   "metadata": {},
   "source": [
    "### Definitions"
   ]
  },
  {
   "cell_type": "markdown",
   "metadata": {
    "id": "0-ruYQvUzvym"
   },
   "source": [
    "**Sentiment classification** is the automated process of identifying opinions in text and labeling them as positive, negative, or neutral, based on the emotions customers express within them.\n",
    "![movie_reviews.jpg](attachment:movie_reviews.jpg)"
   ]
  },
  {
   "cell_type": "markdown",
   "metadata": {
    "id": "1aRYtOg2zvyq"
   },
   "source": [
    "**Transfer learning** is a machine learning method where a model developed for a task is reused as the starting point for a model on a second task!\n",
    "\n",
    "**Word Embeddings** Definition Word embeddings are a type of word representation that look at the context of words which allows words with similar meaning to have a similar vector representation.\n",
    "\n",
    "\n",
    "1. Each word is represented as  a vector.\n",
    "\n",
    "2. Each word is mapped to one vector and the vector values are learned in a way that resembles a neural network.\n",
    "\n",
    "3. They can be considered an improvement over sparse representations used in simpler bag of word model representations.\n",
    "\n",
    "**Word2Vec**\n",
    "\n",
    "Word2Vec is a shallow, two-layer neural networks which is trained to reconstruct linguistic contexts of words.\n",
    "Input: Large Corpus of words\n",
    "\n",
    "\n",
    "Output: Vector Space, with each unique word in the corpus being assigned a corresponding vector in the space.\n",
    "\n",
    "\n",
    "Word vectors are positioned in the vector space such that words that share common contexts in the corpus are located in close proximity to one another in the space.\n",
    "\n",
    "\n",
    "**Deep Network** Deep network takes the sequence of embedding vectors as input and converts them to a compressed representation. The compressed representation effectively captures all the information in the sequence of words in the text. The deep neywrok part is usually an RNN or some forms of it like LSTM/GRU. The dropout is added to overcome the tendency to overfit, a very common problem with RNN based networks.\n",
    "\n",
    "**Recurrent Neural Networks** Recurrent Neural Networks are used to handle sequential data. One of the appeals of RNNs is the idea that they might be able to connect previous information to the present task, such as using previous video frames/words might inform the understanding of the present frame/words. \n",
    "\n",
    "\n",
    "Sometimes, we only need to look at recent information to perform the present task. But Unfortunately, as that gap grows, RNNs become unable to learn to connect the information.\n",
    "\n",
    "Standard RNNs fail to learn in the presence of time lags greater than 5 – 10 discrete time steps between relevant input events and target signals. The vanishing error problem casts doubt on whether standard RNNs can indeed exhibit significant practical advantages over time window-based feedforward networks. A recent model, “Long Short-Term Memory” (LSTM), is not affected by this problem. LSTM can learn to bridge minimal time lags in excess of 1000 discrete time steps by enforcing constant error flow through “constant error carrousels” (CECs) within special units, called cells\n",
    "\n",
    "**LSTM** Long Short Term Memory networks – usually just called “LSTMs” – are a special kind of RNN, capable of learning long-term dependencies. LSTMs are explicitly designed to avoid the long-term dependency problem. Remembering information for long periods of time is practically their default behavior, not something they struggle to learn!\n",
    "\n",
    "![lstm_cropped.png](attachment:lstm_cropped.png)"
   ]
  },
  {
   "cell_type": "code",
   "execution_count": 1,
   "metadata": {
    "colab": {
     "base_uri": "https://localhost:8080/"
    },
    "executionInfo": {
     "elapsed": 1038,
     "status": "ok",
     "timestamp": 1622997668277,
     "user": {
      "displayName": "Ricardo Frederico Silva",
      "photoUrl": "https://lh3.googleusercontent.com/a-/AOh14GiVqDW3ATMxsnWfvbsawdWV3oMStHcwO8PLrSUG_Q=s64",
      "userId": "17891912857859282718"
     },
     "user_tz": 0
    },
    "id": "cZ0qv19yzvyr",
    "outputId": "905c0dcb-0f1e-427b-c8f1-bc52c7b218a3"
   },
   "outputs": [
    {
     "name": "stderr",
     "output_type": "stream",
     "text": [
      "[nltk_data] Downloading package stopwords to\n",
      "[nltk_data]     C:\\Users\\ricar\\AppData\\Roaming\\nltk_data...\n",
      "[nltk_data]   Package stopwords is already up-to-date!\n",
      "[nltk_data] Downloading package punkt to\n",
      "[nltk_data]     C:\\Users\\ricar\\AppData\\Roaming\\nltk_data...\n",
      "[nltk_data]   Package punkt is already up-to-date!\n"
     ]
    },
    {
     "data": {
      "text/plain": [
       "True"
      ]
     },
     "execution_count": 1,
     "metadata": {},
     "output_type": "execute_result"
    }
   ],
   "source": [
    "import matplotlib.pyplot as plt\n",
    "import pandas as pd\n",
    "import os\n",
    "import numpy as np\n",
    "import nltk\n",
    "import string\n",
    "import warnings\n",
    "from gensim.models import Word2Vec\n",
    "from nltk.tokenize import word_tokenize\n",
    "from nltk.corpus import stopwords\n",
    "warnings.filterwarnings(\"ignore\")\n",
    "nltk.download('stopwords')\n",
    "nltk.download('punkt')"
   ]
  },
  {
   "cell_type": "markdown",
   "metadata": {
    "id": "y9DdAfSFzvys"
   },
   "source": [
    "## Loading Data "
   ]
  },
  {
   "cell_type": "code",
   "execution_count": 2,
   "metadata": {
    "colab": {
     "base_uri": "https://localhost:8080/",
     "height": 204
    },
    "executionInfo": {
     "elapsed": 712,
     "status": "ok",
     "timestamp": 1622997668985,
     "user": {
      "displayName": "Ricardo Frederico Silva",
      "photoUrl": "https://lh3.googleusercontent.com/a-/AOh14GiVqDW3ATMxsnWfvbsawdWV3oMStHcwO8PLrSUG_Q=s64",
      "userId": "17891912857859282718"
     },
     "user_tz": 0
    },
    "id": "J2sC9NlCzvys",
    "outputId": "d7b2fd2c-daeb-4c28-b61b-fe1bd1575f1e"
   },
   "outputs": [
    {
     "data": {
      "text/html": [
       "<div>\n",
       "<style scoped>\n",
       "    .dataframe tbody tr th:only-of-type {\n",
       "        vertical-align: middle;\n",
       "    }\n",
       "\n",
       "    .dataframe tbody tr th {\n",
       "        vertical-align: top;\n",
       "    }\n",
       "\n",
       "    .dataframe thead th {\n",
       "        text-align: right;\n",
       "    }\n",
       "</style>\n",
       "<table border=\"1\" class=\"dataframe\">\n",
       "  <thead>\n",
       "    <tr style=\"text-align: right;\">\n",
       "      <th></th>\n",
       "      <th>review</th>\n",
       "      <th>sentiment</th>\n",
       "    </tr>\n",
       "  </thead>\n",
       "  <tbody>\n",
       "    <tr>\n",
       "      <th>0</th>\n",
       "      <td>I went and saw this movie last night after bei...</td>\n",
       "      <td>1</td>\n",
       "    </tr>\n",
       "    <tr>\n",
       "      <th>1</th>\n",
       "      <td>Actor turned director Bill Paxton follows up h...</td>\n",
       "      <td>1</td>\n",
       "    </tr>\n",
       "    <tr>\n",
       "      <th>2</th>\n",
       "      <td>As a recreational golfer with some knowledge o...</td>\n",
       "      <td>1</td>\n",
       "    </tr>\n",
       "    <tr>\n",
       "      <th>3</th>\n",
       "      <td>I saw this film in a sneak preview, and it is ...</td>\n",
       "      <td>1</td>\n",
       "    </tr>\n",
       "    <tr>\n",
       "      <th>4</th>\n",
       "      <td>Bill Paxton has taken the true story of the 19...</td>\n",
       "      <td>1</td>\n",
       "    </tr>\n",
       "  </tbody>\n",
       "</table>\n",
       "</div>"
      ],
      "text/plain": [
       "                                              review  sentiment\n",
       "0  I went and saw this movie last night after bei...          1\n",
       "1  Actor turned director Bill Paxton follows up h...          1\n",
       "2  As a recreational golfer with some knowledge o...          1\n",
       "3  I saw this film in a sneak preview, and it is ...          1\n",
       "4  Bill Paxton has taken the true story of the 19...          1"
      ]
     },
     "execution_count": 2,
     "metadata": {},
     "output_type": "execute_result"
    }
   ],
   "source": [
    "df = pd.read_csv(\"IMDB_movie_reviews.csv\", encoding='utf-8')\n",
    "\n",
    "df.head(5)"
   ]
  },
  {
   "cell_type": "markdown",
   "metadata": {
    "id": "tAw2Luz1zvys"
   },
   "source": [
    "\n",
    "# Data Preprocessing\n",
    "\n",
    "1. **Tokenization** is a way of separating a piece of text into smaller units called tokens. Here, tokens can be either words, characters, or subwords.\n",
    "\n",
    "2. Removing **Punctuations**\n",
    "\n",
    "3. Removing tokens which are not alphabetic\n",
    "\n",
    "4. **Stopwords Removal**: A stop word is a commonly used word (such as “the”, “a”, “an”, “in”) \n",
    "\n",
    "\n"
   ]
  },
  {
   "cell_type": "code",
   "execution_count": 3,
   "metadata": {
    "executionInfo": {
     "elapsed": 99661,
     "status": "ok",
     "timestamp": 1622997768642,
     "user": {
      "displayName": "Ricardo Frederico Silva",
      "photoUrl": "https://lh3.googleusercontent.com/a-/AOh14GiVqDW3ATMxsnWfvbsawdWV3oMStHcwO8PLrSUG_Q=s64",
      "userId": "17891912857859282718"
     },
     "user_tz": 0
    },
    "id": "LoGxkVwOzvyt"
   },
   "outputs": [],
   "source": [
    "import string\n",
    "from nltk.tokenize import word_tokenize\n",
    "from nltk.corpus import stopwords\n",
    "\n",
    "reviews_lines = list()\n",
    "\n",
    "lines = df['review'].values.tolist()\n",
    "\n",
    "for line in lines:\n",
    "  tokens = word_tokenize(line)\n",
    "  tokens = [word.lower() for word in tokens]\n",
    "  table = str.maketrans('','',string.punctuation)\n",
    "  stripped = [w.translate(table) for w in tokens]\n",
    "  words = [word for word in stripped if word.isalpha()]\n",
    "  stop_words = set(stopwords.words('english'))\n",
    "  words = [w for w in words if not w in stop_words]\n",
    "  reviews_lines.append(words)"
   ]
  },
  {
   "cell_type": "markdown",
   "metadata": {
    "id": "LW1qM9zFzvyt"
   },
   "source": [
    "**Word2Vec** is a simple Neural Network with one hidden layer & has weights and during training, its goal is to adjust those weights to reduce the loss function.\n",
    "\n",
    "During the training, weights are adjusted through back-propagation. Once the training is completed, instead of taking the entire model, we just take the **hidden weights** which are our word embeddings.\n",
    "\n",
    "Word vectors are positioned in the vector space such that words that share common contexts in the corpus are located in close proximity to one another in the space.\n",
    "\n",
    "Gensim is an Open Source Python Library which can be used to implement Word2Vec."
   ]
  },
  {
   "cell_type": "code",
   "execution_count": 4,
   "metadata": {
    "colab": {
     "base_uri": "https://localhost:8080/"
    },
    "executionInfo": {
     "elapsed": 82458,
     "status": "ok",
     "timestamp": 1622997851088,
     "user": {
      "displayName": "Ricardo Frederico Silva",
      "photoUrl": "https://lh3.googleusercontent.com/a-/AOh14GiVqDW3ATMxsnWfvbsawdWV3oMStHcwO8PLrSUG_Q=s64",
      "userId": "17891912857859282718"
     },
     "user_tz": 0
    },
    "id": "hHFTsVCvzvyu",
    "outputId": "442243a7-90c2-4547-9949-5ff8be410575"
   },
   "outputs": [
    {
     "name": "stdout",
     "output_type": "stream",
     "text": [
      "Vocabulary size: 133264\n"
     ]
    }
   ],
   "source": [
    "import gensim\n",
    "\n",
    "EMBEDDING_DIM = 100\n",
    "\n",
    "model = gensim.models.Word2Vec(sentences=reviews_lines,\\\n",
    "                               vector_size=EMBEDDING_DIM, window=5, min_count=1)\n",
    "words = list(model.wv.key_to_index)\n",
    "\n",
    "print(\"Vocabulary size: %d\" % len(words))"
   ]
  },
  {
   "cell_type": "markdown",
   "metadata": {
    "id": "_AH93DqUzvyu"
   },
   "source": [
    "**Saving** the word2vec model in ASCII (word2vec) format"
   ]
  },
  {
   "cell_type": "markdown",
   "metadata": {
    "id": "6wgLrssOzvyv"
   },
   "source": [
    "Lets test our Word2Vec Model to see how it performs using utility functions provided in Gensim"
   ]
  },
  {
   "cell_type": "code",
   "execution_count": 5,
   "metadata": {
    "colab": {
     "base_uri": "https://localhost:8080/"
    },
    "executionInfo": {
     "elapsed": 152,
     "status": "ok",
     "timestamp": 1622997851227,
     "user": {
      "displayName": "Ricardo Frederico Silva",
      "photoUrl": "https://lh3.googleusercontent.com/a-/AOh14GiVqDW3ATMxsnWfvbsawdWV3oMStHcwO8PLrSUG_Q=s64",
      "userId": "17891912857859282718"
     },
     "user_tz": 0
    },
    "id": "L7Hz2UKnzvyw",
    "outputId": "01d1a497-5423-448c-b01c-fcb1a148bea3"
   },
   "outputs": [
    {
     "data": {
      "text/plain": [
       "[('filmmaker', 0.7482609152793884),\n",
       " ('screenwriter', 0.6517308950424194),\n",
       " ('directors', 0.6366800665855408),\n",
       " ('altman', 0.6296835541725159),\n",
       " ('writerdirector', 0.6252219676971436),\n",
       " ('harlin', 0.6231703758239746),\n",
       " ('writer', 0.6140226721763611),\n",
       " ('firsttime', 0.6070738434791565),\n",
       " ('verhoeven', 0.5874811410903931),\n",
       " ('producer', 0.5833982825279236)]"
      ]
     },
     "execution_count": 5,
     "metadata": {},
     "output_type": "execute_result"
    }
   ],
   "source": [
    "model.wv.most_similar('director')"
   ]
  },
  {
   "cell_type": "markdown",
   "metadata": {
    "id": "sagyE4zTzvyw"
   },
   "source": [
    "Let’s see the result of semantically reasonable word vectors (actress - actor + heroine)\n"
   ]
  },
  {
   "cell_type": "code",
   "execution_count": 6,
   "metadata": {
    "colab": {
     "base_uri": "https://localhost:8080/"
    },
    "executionInfo": {
     "elapsed": 9,
     "status": "ok",
     "timestamp": 1622997851228,
     "user": {
      "displayName": "Ricardo Frederico Silva",
      "photoUrl": "https://lh3.googleusercontent.com/a-/AOh14GiVqDW3ATMxsnWfvbsawdWV3oMStHcwO8PLrSUG_Q=s64",
      "userId": "17891912857859282718"
     },
     "user_tz": 0
    },
    "id": "OAua0G4Xzvyw",
    "outputId": "59b32dbf-b4e3-43e7-e4cc-1f1ceee2fbde"
   },
   "outputs": [
    {
     "data": {
      "text/plain": [
       "[('sexually', 0.7301019430160522),\n",
       " ('vulnerable', 0.7246723771095276),\n",
       " ('stepmother', 0.7223408818244934),\n",
       " ('protagonist', 0.6959052681922913),\n",
       " ('housewife', 0.694216787815094),\n",
       " ('nurse', 0.692933201789856),\n",
       " ('malefantasy', 0.6904645562171936),\n",
       " ('seductive', 0.6831722855567932),\n",
       " ('blonde', 0.6766549348831177),\n",
       " ('jealousy', 0.6716678142547607)]"
      ]
     },
     "execution_count": 6,
     "metadata": {},
     "output_type": "execute_result"
    }
   ],
   "source": [
    "model.wv.most_similar(positive=['actress','heroine'], negative=['actor'])"
   ]
  },
  {
   "cell_type": "markdown",
   "metadata": {
    "id": "UjrSZ6Amzvyw"
   },
   "source": [
    "**Odd One out** - Finding the odd word out of the given list of words"
   ]
  },
  {
   "cell_type": "code",
   "execution_count": 7,
   "metadata": {
    "colab": {
     "base_uri": "https://localhost:8080/"
    },
    "executionInfo": {
     "elapsed": 7,
     "status": "ok",
     "timestamp": 1622997851228,
     "user": {
      "displayName": "Ricardo Frederico Silva",
      "photoUrl": "https://lh3.googleusercontent.com/a-/AOh14GiVqDW3ATMxsnWfvbsawdWV3oMStHcwO8PLrSUG_Q=s64",
      "userId": "17891912857859282718"
     },
     "user_tz": 0
    },
    "id": "Jqp6mOV0zvyx",
    "outputId": "b42b5787-e550-497f-b012-670c40ee859e"
   },
   "outputs": [
    {
     "name": "stdout",
     "output_type": "stream",
     "text": [
      "tea\n"
     ]
    }
   ],
   "source": [
    "print(model.wv.doesnt_match(\"film movie theatre tea\".split()))"
   ]
  },
  {
   "cell_type": "markdown",
   "metadata": {
    "id": "e8Uqqhxzzvyx"
   },
   "source": [
    "## Save model in ASCII (word2vec) format"
   ]
  },
  {
   "cell_type": "code",
   "execution_count": 8,
   "metadata": {
    "executionInfo": {
     "elapsed": 10263,
     "status": "ok",
     "timestamp": 1622997861486,
     "user": {
      "displayName": "Ricardo Frederico Silva",
      "photoUrl": "https://lh3.googleusercontent.com/a-/AOh14GiVqDW3ATMxsnWfvbsawdWV3oMStHcwO8PLrSUG_Q=s64",
      "userId": "17891912857859282718"
     },
     "user_tz": 0
    },
    "id": "Xeu7yRiazvyx"
   },
   "outputs": [],
   "source": [
    "filename = 'imdb_embedding_word2vec.txt'\n",
    "model.wv.save_word2vec_format(filename, binary=False)"
   ]
  },
  {
   "cell_type": "markdown",
   "metadata": {
    "id": "9HzD_Tbczvyx"
   },
   "source": [
    "## Load the embeddings from the file into a dictionary"
   ]
  },
  {
   "cell_type": "code",
   "execution_count": 9,
   "metadata": {
    "executionInfo": {
     "elapsed": 3092,
     "status": "ok",
     "timestamp": 1622997864566,
     "user": {
      "displayName": "Ricardo Frederico Silva",
      "photoUrl": "https://lh3.googleusercontent.com/a-/AOh14GiVqDW3ATMxsnWfvbsawdWV3oMStHcwO8PLrSUG_Q=s64",
      "userId": "17891912857859282718"
     },
     "user_tz": 0
    },
    "id": "Ca4918vnzvyx"
   },
   "outputs": [],
   "source": [
    "import os\n",
    "embeddings_index ={}\n",
    "f = open('imdb_embedding_word2vec.txt', encoding='utf-8')\n",
    "for line in f:\n",
    "  values = line.split()\n",
    "  word = values[0]\n",
    "  coefs = np.asarray(values[1:])\n",
    "  embeddings_index[word] = coefs\n",
    "\n",
    "f.close()"
   ]
  },
  {
   "cell_type": "markdown",
   "metadata": {
    "id": "VHdzIxZYzvyy"
   },
   "source": [
    "**Tokenization** is a way of separating a piece of text into smaller units called tokens. Here, tokens can be either words, characters, or subwords. \n",
    "\n",
    "**Padding** All the neural networks require to have inputs that have the same shape and size. However, when we pre-process and use the texts as inputs for our model e.g. LSTM, not all the sentences have the same length. In other words, naturally, some of the sentences are longer or shorter. We need to have the inputs with the same size, this is where the padding is necessary.\n",
    "\n",
    "**Splitting the data** "
   ]
  },
  {
   "cell_type": "code",
   "execution_count": 10,
   "metadata": {
    "colab": {
     "base_uri": "https://localhost:8080/"
    },
    "executionInfo": {
     "elapsed": 10743,
     "status": "ok",
     "timestamp": 1622997875306,
     "user": {
      "displayName": "Ricardo Frederico Silva",
      "photoUrl": "https://lh3.googleusercontent.com/a-/AOh14GiVqDW3ATMxsnWfvbsawdWV3oMStHcwO8PLrSUG_Q=s64",
      "userId": "17891912857859282718"
     },
     "user_tz": 0
    },
    "id": "NeWvXe4Wzvyy",
    "outputId": "af47b5e3-2622-47fa-fc1a-fe85edef57e0"
   },
   "outputs": [
    {
     "name": "stdout",
     "output_type": "stream",
     "text": [
      "(50000, 100)\n",
      "(50000,)\n"
     ]
    }
   ],
   "source": [
    "from tensorflow.python.keras.preprocessing.text import Tokenizer\n",
    "from tensorflow.python.keras.preprocessing.sequence import pad_sequences\n",
    "import numpy as np\n",
    "\n",
    "VALIDATION_SPLIT = 0.2\n",
    "\n",
    "tokenizer_obj = Tokenizer()\n",
    "tokenizer_obj.fit_on_texts(reviews_lines)\n",
    "sequences = tokenizer_obj.texts_to_sequences(reviews_lines)\n",
    "\n",
    "max_length = 100\n",
    "\n",
    "word_index = tokenizer_obj.word_index\n",
    "\n",
    "review_pad = pad_sequences(sequences, maxlen=max_length)\n",
    "sentiment = df['sentiment'].values\n",
    "\n",
    "print(review_pad.shape)\n",
    "print(sentiment.shape)\n",
    "\n",
    "indices = np.arange(review_pad.shape[0])\n",
    "np.random.shuffle(indices)\n",
    "review_pad = review_pad[indices]\n",
    "sentiment = sentiment[indices]\n",
    "num_validation_samples = int(VALIDATION_SPLIT *review_pad.shape[0])\n",
    "\n",
    "X_val_pad = review_pad[:num_validation_samples]\n",
    "y_val = sentiment[:num_validation_samples]\n",
    "\n",
    "X_train_pad = review_pad[num_validation_samples:]\n",
    "y_train = sentiment[num_validation_samples:]"
   ]
  },
  {
   "cell_type": "markdown",
   "metadata": {
    "id": "uwSA4073zvyy"
   },
   "source": [
    "## Splitting Train data further into Train & Test Sets"
   ]
  },
  {
   "cell_type": "code",
   "execution_count": 11,
   "metadata": {
    "executionInfo": {
     "elapsed": 20,
     "status": "ok",
     "timestamp": 1622997875307,
     "user": {
      "displayName": "Ricardo Frederico Silva",
      "photoUrl": "https://lh3.googleusercontent.com/a-/AOh14GiVqDW3ATMxsnWfvbsawdWV3oMStHcwO8PLrSUG_Q=s64",
      "userId": "17891912857859282718"
     },
     "user_tz": 0
    },
    "id": "PicdmEKuzvyy"
   },
   "outputs": [],
   "source": [
    "TEST_SPLIT = 0.1\n",
    "\n",
    "num_test_samples = int(TEST_SPLIT * X_train_pad.shape[0])\n",
    "\n",
    "X_test_pad = X_train_pad[:num_test_samples]\n",
    "y_test = y_train[:num_test_samples]\n",
    "X_train_pad = X_train_pad[num_test_samples:]\n",
    "y_train = y_train[num_test_samples:]"
   ]
  },
  {
   "cell_type": "code",
   "execution_count": 12,
   "metadata": {
    "colab": {
     "base_uri": "https://localhost:8080/"
    },
    "executionInfo": {
     "elapsed": 19,
     "status": "ok",
     "timestamp": 1622997875307,
     "user": {
      "displayName": "Ricardo Frederico Silva",
      "photoUrl": "https://lh3.googleusercontent.com/a-/AOh14GiVqDW3ATMxsnWfvbsawdWV3oMStHcwO8PLrSUG_Q=s64",
      "userId": "17891912857859282718"
     },
     "user_tz": 0
    },
    "id": "OcCTeDBSzvyy",
    "outputId": "dc184409-43be-4c34-cdbd-a877a8b8ac65"
   },
   "outputs": [
    {
     "name": "stdout",
     "output_type": "stream",
     "text": [
      "(36000, 100)\n",
      "(36000,)\n",
      "(10000, 100)\n",
      "(10000,)\n",
      "(4000, 100)\n",
      "(4000,)\n"
     ]
    }
   ],
   "source": [
    "print(X_train_pad.shape)\n",
    "print(y_train.shape)\n",
    "\n",
    "print(X_val_pad.shape)\n",
    "print(y_val.shape)\n",
    "\n",
    "print(X_test_pad.shape)\n",
    "print(y_test.shape)"
   ]
  },
  {
   "cell_type": "markdown",
   "metadata": {
    "id": "rjmFZ_ydzvyz"
   },
   "source": [
    "## Creating an Embedding Matrix"
   ]
  },
  {
   "cell_type": "code",
   "execution_count": 13,
   "metadata": {
    "executionInfo": {
     "elapsed": 5823,
     "status": "ok",
     "timestamp": 1622998673053,
     "user": {
      "displayName": "Ricardo Frederico Silva",
      "photoUrl": "https://lh3.googleusercontent.com/a-/AOh14GiVqDW3ATMxsnWfvbsawdWV3oMStHcwO8PLrSUG_Q=s64",
      "userId": "17891912857859282718"
     },
     "user_tz": 0
    },
    "id": "Z0YLoo-bzvyz"
   },
   "outputs": [],
   "source": [
    "EMBEDDING_DIM = 100\n",
    "num_words = len(word_index) + 1 \n",
    "embedding_matrix = np.zeros((num_words, EMBEDDING_DIM))\n",
    "\n",
    "for word, i in word_index.items():\n",
    "  if i > num_words:\n",
    "    continue\n",
    "  embedding_vector = embeddings_index.get(word)\n",
    "  if embedding_vector is not None:\n",
    "    embedding_matrix[i] = embedding_vector\n"
   ]
  },
  {
   "cell_type": "markdown",
   "metadata": {
    "id": "OSzGKG5hzvyz"
   },
   "source": [
    "## Training \n",
    "\n",
    "Defining the Model\n",
    "\n",
    "In Keras, A **Sequential model** is appropriate for a plain stack of layers where each layer has exactly one input tensor and one output tensor.\n",
    "1. Load pre-trained word embeddings into an Embedding layer\n",
    "\n",
    "2. Adding LSTM Layer\n",
    "\n",
    "3. Adding Dense Layer\n",
    "\n",
    "**model.compile** used to Configures the model for training.\n",
    "\n",
    "\n",
    "**model.add()** function is used to add layers to our model."
   ]
  },
  {
   "cell_type": "code",
   "execution_count": 14,
   "metadata": {
    "colab": {
     "base_uri": "https://localhost:8080/"
    },
    "executionInfo": {
     "elapsed": 548,
     "status": "ok",
     "timestamp": 1622999920920,
     "user": {
      "displayName": "Ricardo Frederico Silva",
      "photoUrl": "https://lh3.googleusercontent.com/a-/AOh14GiVqDW3ATMxsnWfvbsawdWV3oMStHcwO8PLrSUG_Q=s64",
      "userId": "17891912857859282718"
     },
     "user_tz": 0
    },
    "id": "ev4g5WR3zvyz",
    "outputId": "b10e70bc-1cce-49ec-c91e-b377e9bd0550"
   },
   "outputs": [
    {
     "name": "stdout",
     "output_type": "stream",
     "text": [
      "Summary of the built model..\n",
      "Model: \"sequential\"\n",
      "_________________________________________________________________\n",
      "Layer (type)                 Output Shape              Param #   \n",
      "=================================================================\n",
      "embedding (Embedding)        (None, 100, 100)          13326500  \n",
      "_________________________________________________________________\n",
      "lstm (LSTM)                  (None, 32)                17024     \n",
      "_________________________________________________________________\n",
      "dense (Dense)                (None, 1)                 33        \n",
      "=================================================================\n",
      "Total params: 13,343,557\n",
      "Trainable params: 17,057\n",
      "Non-trainable params: 13,326,500\n",
      "_________________________________________________________________\n",
      "None\n"
     ]
    }
   ],
   "source": [
    "from keras.models import Sequential\n",
    "from keras.layers import Dense, Embedding, LSTM\n",
    "from keras.layers.embeddings import Embedding\n",
    "from keras.initializers import Constant\n",
    "\n",
    "model = Sequential()\n",
    "embedding_layer = Embedding(num_words,\n",
    "                            EMBEDDING_DIM,\n",
    "                            embeddings_initializer=Constant(embedding_matrix),\n",
    "                            input_length=max_length,\n",
    "                            trainable=False)\n",
    "\n",
    "model.add(embedding_layer)\n",
    "model.add(LSTM(units=32, dropout=0.2, recurrent_dropout=0.2))\n",
    "model.add(Dense(1, activation='sigmoid'))\n",
    "\n",
    "model.compile(loss='binary_crossentropy', optimizer='adam', metrics=['accuracy'])\n",
    "\n",
    "print('Summary of the built model..')\n",
    "\n",
    "print(model.summary())"
   ]
  },
  {
   "cell_type": "markdown",
   "metadata": {
    "id": "lfua1YiYzvy0"
   },
   "source": [
    "  ## Training the Model\n",
    "\n",
    "Use the .fit method.\n",
    "\n",
    "Assign the model.fit() method to a variable, which will store the Training, Validation Loss and Accuracy for each epoch. "
   ]
  },
  {
   "cell_type": "code",
   "execution_count": 15,
   "metadata": {
    "colab": {
     "base_uri": "https://localhost:8080/"
    },
    "executionInfo": {
     "elapsed": 527584,
     "status": "ok",
     "timestamp": 1623000945531,
     "user": {
      "displayName": "Ricardo Frederico Silva",
      "photoUrl": "https://lh3.googleusercontent.com/a-/AOh14GiVqDW3ATMxsnWfvbsawdWV3oMStHcwO8PLrSUG_Q=s64",
      "userId": "17891912857859282718"
     },
     "user_tz": 0
    },
    "id": "7P4hegdczvy0",
    "outputId": "64ddf50b-ef3a-4665-b5a6-497a4366f555"
   },
   "outputs": [
    {
     "name": "stdout",
     "output_type": "stream",
     "text": [
      "Epoch 1/10\n",
      "282/282 - 49s - loss: 0.4879 - accuracy: 0.7532 - val_loss: 0.3707 - val_accuracy: 0.8396\n",
      "Epoch 2/10\n",
      "282/282 - 27s - loss: 0.3789 - accuracy: 0.8298 - val_loss: 0.3331 - val_accuracy: 0.8596\n",
      "Epoch 3/10\n",
      "282/282 - 28s - loss: 0.3453 - accuracy: 0.8482 - val_loss: 0.3367 - val_accuracy: 0.8543\n",
      "Epoch 4/10\n",
      "282/282 - 28s - loss: 0.3312 - accuracy: 0.8554 - val_loss: 0.3101 - val_accuracy: 0.8715\n",
      "Epoch 5/10\n",
      "282/282 - 30s - loss: 0.3166 - accuracy: 0.8636 - val_loss: 0.3364 - val_accuracy: 0.8572\n",
      "Epoch 6/10\n",
      "282/282 - 31s - loss: 0.3098 - accuracy: 0.8676 - val_loss: 0.3000 - val_accuracy: 0.8758\n",
      "Epoch 7/10\n",
      "282/282 - 31s - loss: 0.3032 - accuracy: 0.8683 - val_loss: 0.3219 - val_accuracy: 0.8644\n",
      "Epoch 8/10\n",
      "282/282 - 30s - loss: 0.2960 - accuracy: 0.8726 - val_loss: 0.2924 - val_accuracy: 0.8793\n",
      "Epoch 9/10\n",
      "282/282 - 31s - loss: 0.2871 - accuracy: 0.8768 - val_loss: 0.2966 - val_accuracy: 0.8767\n",
      "Epoch 10/10\n",
      "282/282 - 30s - loss: 0.2850 - accuracy: 0.8777 - val_loss: 0.2888 - val_accuracy: 0.8792\n"
     ]
    }
   ],
   "source": [
    "history = model.fit(X_train_pad, y_train, batch_size=128, epochs=10,\\\n",
    "                    validation_data=(X_val_pad, y_val), verbose=2)"
   ]
  },
  {
   "cell_type": "markdown",
   "metadata": {
    "id": "TNMz7c0Yzvy0"
   },
   "source": [
    "## Evaluating the Model on Test Set\n",
    "\n",
    "**Score** is the evaluation of the loss function for a given input.\n",
    "\n",
    "**Accuracy** How accurate your model's prediction is compared to the true data.\n"
   ]
  },
  {
   "cell_type": "code",
   "execution_count": 16,
   "metadata": {
    "colab": {
     "base_uri": "https://localhost:8080/"
    },
    "executionInfo": {
     "elapsed": 980,
     "status": "ok",
     "timestamp": 1623001252596,
     "user": {
      "displayName": "Ricardo Frederico Silva",
      "photoUrl": "https://lh3.googleusercontent.com/a-/AOh14GiVqDW3ATMxsnWfvbsawdWV3oMStHcwO8PLrSUG_Q=s64",
      "userId": "17891912857859282718"
     },
     "user_tz": 0
    },
    "id": "2r9Rv0KXzvy3",
    "outputId": "5233c67e-a5e5-440d-f8d8-99a7a920e703"
   },
   "outputs": [
    {
     "name": "stdout",
     "output_type": "stream",
     "text": [
      "32/32 [==============================] - 1s 19ms/step - loss: 0.3122 - accuracy: 0.8673\n",
      "Test score:  0.31222227215766907\n",
      "Test Accuracy:  0.8672500252723694\n"
     ]
    }
   ],
   "source": [
    "score, acc = model.evaluate(X_test_pad, y_test, batch_size=128)\n",
    "\n",
    "print(\"Test score: \", score)\n",
    "print('Test Accuracy: ', acc)\n"
   ]
  },
  {
   "cell_type": "markdown",
   "metadata": {
    "id": "PgDADX_7zvy4"
   },
   "source": [
    "## Plotting the Accuracy and Loss "
   ]
  },
  {
   "cell_type": "code",
   "execution_count": 17,
   "metadata": {
    "colab": {
     "base_uri": "https://localhost:8080/",
     "height": 590
    },
    "executionInfo": {
     "elapsed": 470,
     "status": "ok",
     "timestamp": 1623001996047,
     "user": {
      "displayName": "Ricardo Frederico Silva",
      "photoUrl": "https://lh3.googleusercontent.com/a-/AOh14GiVqDW3ATMxsnWfvbsawdWV3oMStHcwO8PLrSUG_Q=s64",
      "userId": "17891912857859282718"
     },
     "user_tz": 0
    },
    "id": "jUF3muu2zvy4",
    "outputId": "df998dbb-36c6-4a7f-bbf6-32da2a5a4d11"
   },
   "outputs": [
    {
     "name": "stdout",
     "output_type": "stream",
     "text": [
      "dict_keys(['loss', 'accuracy', 'val_loss', 'val_accuracy'])\n"
     ]
    },
    {
     "data": {
      "image/png": "[encoded data removed]",
      "text/plain": [
       "<Figure size 432x288 with 1 Axes>"
      ]
     },
     "metadata": {
      "needs_background": "light"
     },
     "output_type": "display_data"
    },
    {
     "data": {
      "image/png": "[encoded data removed]",
      "text/plain": [
       "<Figure size 432x288 with 1 Axes>"
      ]
     },
     "metadata": {
      "needs_background": "light"
     },
     "output_type": "display_data"
    }
   ],
   "source": [
    "print(history.history.keys())\n",
    "plt.plot(history.history['accuracy'])\n",
    "plt.plot(history.history['val_accuracy'])\n",
    "\n",
    "plt.title('model accuracy')\n",
    "plt.ylabel('accuracy')\n",
    "plt.xlabel('epoch')\n",
    "plt.legend(['train','validation'], loc= 'upper left')\n",
    "plt.show()\n",
    "\n",
    "#loss\n",
    "plt.plot(history.history['loss'])\n",
    "plt.plot(history.history['val_loss'])\n",
    "\n",
    "plt.title(' model loss ')\n",
    "plt.ylabel('loss')\n",
    "plt.xlabel('epoch')\n",
    "plt.legend(['train','validation'], loc= 'upper left')\n",
    "plt.show()"
   ]
  },
  {
   "cell_type": "markdown",
   "metadata": {
    "id": "593Zaxp7zvy4"
   },
   "source": [
    "## Testing the Model on Sample data\n"
   ]
  },
  {
   "cell_type": "code",
   "execution_count": 18,
   "metadata": {
    "colab": {
     "base_uri": "https://localhost:8080/"
    },
    "executionInfo": {
     "elapsed": 1085,
     "status": "ok",
     "timestamp": 1623002380125,
     "user": {
      "displayName": "Ricardo Frederico Silva",
      "photoUrl": "https://lh3.googleusercontent.com/a-/AOh14GiVqDW3ATMxsnWfvbsawdWV3oMStHcwO8PLrSUG_Q=s64",
      "userId": "17891912857859282718"
     },
     "user_tz": 0
    },
    "id": "bGiiVzYbzvy4",
    "outputId": "948ac7de-96e2-47b4-f914-b8d442618ba4"
   },
   "outputs": [
    {
     "data": {
      "text/plain": [
       "array([[0.9610168 ],\n",
       "       [0.35601252]], dtype=float32)"
      ]
     },
     "execution_count": 18,
     "metadata": {},
     "output_type": "execute_result"
    }
   ],
   "source": [
    "test_sample_1 = \"The movie was fantastic! I liked it!!\"\n",
    "test_sample_2 = \"Not a great movie, it was really bad..\"\n",
    "\n",
    "test_samples = [test_sample_1, test_sample_2]\n",
    "\n",
    "test_samples_tokens = tokenizer_obj.texts_to_sequences(test_samples)\n",
    "test_samples_tokens_pad = pad_sequences(test_samples_tokens, maxlen=100)\n",
    "\n",
    "#predict\n",
    "model.predict(x=test_samples_tokens_pad)"
   ]
  },
  {
   "cell_type": "markdown",
   "metadata": {},
   "source": [
    "So finally our model classsified the test samples, and as we can see **test_sample_1 has been classified as positive with 0.96** and **test_sample_2 has been classified as negative with 0.35**."
   ]
  },
  {
   "cell_type": "code",
   "execution_count": null,
   "metadata": {},
   "outputs": [],
   "source": []
  }
 ],
 "metadata": {
  "colab": {
   "collapsed_sections": [],
   "name": "Copy of Text Classification Using Word2Vec and LSTMs on Keras.ipynb",
   "provenance": [
    {
     "file_id": "1d8N5aI2YgSvwREzMHB1pLd8X4zAqUU0q",
     "timestamp": 1623002570501
    }
   ]
  },
  "kernelspec": {
   "display_name": "Python 3",
   "language": "python",
   "name": "python3"
  },
  "language_info": {
   "codemirror_mode": {
    "name": "ipython",
    "version": 3
   },
   "file_extension": ".py",
   "mimetype": "text/x-python",
   "name": "python",
   "nbconvert_exporter": "python",
   "pygments_lexer": "ipython3",
   "version": "3.7.6"
  }
 },
 "nbformat": 4,
 "nbformat_minor": 1
}
